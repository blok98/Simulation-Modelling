{
 "cells": [
  {
   "cell_type": "markdown",
   "metadata": {},
   "source": [
    "<h2>Generate stochastic variables"
   ]
  },
  {
   "cell_type": "markdown",
   "metadata": {},
   "source": [
    "<h3>Random Number Generator"
   ]
  },
  {
   "cell_type": "markdown",
   "metadata": {},
   "source": [
    "To calculate a random number the next formula is being used:<br>\n",
    "*Xi+1 =  (a.Xi + c) mod m*"
   ]
  },
  {
   "cell_type": "code",
   "execution_count": 5,
   "metadata": {},
   "outputs": [],
   "source": [
    "def uniform_rng(steps,a,c,m,begin_x,show_his=False):\n",
    "    x=begin_x\n",
    "    lst=[]\n",
    "    for i in range(steps):\n",
    "        x=(a*x+c)%m\n",
    "        lst.append(x)\n",
    "    if show_his:\n",
    "        plt.hist([i for i in lst],bins=50)\n",
    "        plt.show()\n",
    "    return lst\n",
    "        "
   ]
  },
  {
   "cell_type": "code",
   "execution_count": 7,
   "metadata": {
    "scrolled": true
   },
   "outputs": [],
   "source": [
    "random_values=uniform_rng(10000,421,325,100000,1000,show_his=False)"
   ]
  },
  {
   "cell_type": "markdown",
   "metadata": {},
   "source": [
    "<h3>Convert from Uniform to a Normal Distribution"
   ]
  },
  {
   "cell_type": "code",
   "execution_count": 40,
   "metadata": {},
   "outputs": [],
   "source": [
    "from scipy.stats import norm\n",
    "from scipy.stats import normaltest"
   ]
  },
  {
   "cell_type": "markdown",
   "metadata": {},
   "source": [
    "We can evaluate a normal distribution with the following steps:<br>\n",
    "- Initialize cumulative normal function (norm.cdf) <br>\n",
    "- Initialize inverse of cumulative normal function (norm.ppf)<br>\n",
    "- Find a random value from a uniform distribution (uniform_rng)<br>\n",
    "- Convert random value to numbers between 0 and 1<br>\n",
    "- Find value from normal distribution given the random value by using the norm.ppf function<br>"
   ]
  },
  {
   "cell_type": "code",
   "execution_count": 35,
   "metadata": {},
   "outputs": [],
   "source": [
    "def uniform_to_normal(lst,show_his=False):\n",
    "    new_lst=[]\n",
    "    for random_value in lst:\n",
    "        x=random_value/(max(lst))\n",
    "        x += (-x+0.5)*0.00001\n",
    "        new_x=norm.ppf(x,loc=1,scale=1)\n",
    "        new_lst.append(new_x)\n",
    "    if show_his:\n",
    "        plt.hist([i for i in new_lst],bins=50)\n",
    "        plt.show()\n",
    "    return new_lst"
   ]
  },
  {
   "cell_type": "code",
   "execution_count": 36,
   "metadata": {},
   "outputs": [
    {
     "data": {
      "image/png": "[encoded data removed]",
      "text/plain": [
       "<Figure size 432x288 with 1 Axes>"
      ]
     },
     "metadata": {
      "needs_background": "light"
     },
     "output_type": "display_data"
    }
   ],
   "source": [
    "normal_values=uniform_to_normal(random_values,show_his=True)"
   ]
  },
  {
   "cell_type": "markdown",
   "metadata": {},
   "source": [
    "<h3>Validate Normal Distribution"
   ]
  },
  {
   "cell_type": "code",
   "execution_count": 41,
   "metadata": {},
   "outputs": [
    {
     "data": {
      "text/plain": [
       "NormaltestResult(statistic=3.1963489515558363, pvalue=0.20226542159739103)"
      ]
     },
     "execution_count": 41,
     "metadata": {},
     "output_type": "execute_result"
    }
   ],
   "source": [
    "normaltest(normal_values)"
   ]
  },
  {
   "cell_type": "markdown",
   "metadata": {},
   "source": [
    "The p value is 20% (more than 5% which), so the data seems to resembling a normal distribution. "
   ]
  }
 ],
 "metadata": {
  "kernelspec": {
   "display_name": "Python 3",
   "language": "python",
   "name": "python3"
  },
  "language_info": {
   "codemirror_mode": {
    "name": "ipython",
    "version": 3
   },
   "file_extension": ".py",
   "mimetype": "text/x-python",
   "name": "python",
   "nbconvert_exporter": "python",
   "pygments_lexer": "ipython3",
   "version": "3.7.3"
  }
 },
 "nbformat": 4,
 "nbformat_minor": 2
}
