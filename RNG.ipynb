{
 "cells": [
  {
   "cell_type": "markdown",
   "metadata": {},
   "source": [
    "<h3>Random Number Generator, and how to estimate pi</h3>"
   ]
  },
  {
   "cell_type": "code",
   "execution_count": 1,
   "metadata": {},
   "outputs": [],
   "source": [
    "import matplotlib.pyplot as plt\n",
    "import numpy as np"
   ]
  },
  {
   "cell_type": "markdown",
   "metadata": {},
   "source": [
    "To calculate a random number the next formula is being used:<br>\n",
    "*Xi+1 =  (a.Xi + c) mod m*"
   ]
  },
  {
   "cell_type": "code",
   "execution_count": 2,
   "metadata": {},
   "outputs": [],
   "source": [
    "def uniform_rng(steps,a,c,m,begin_x,show_his=False):\n",
    "    x=begin_x\n",
    "    lst=[]\n",
    "    for i in range(steps):\n",
    "        x=(a*x+c)%m\n",
    "        lst.append(x)\n",
    "    if show_his:\n",
    "        plt.hist([i for i in lst],bins=50)\n",
    "        plt.show()\n",
    "    return x\n",
    "        "
   ]
  },
  {
   "cell_type": "code",
   "execution_count": 3,
   "metadata": {
    "scrolled": true
   },
   "outputs": [
    {
     "data": {
      "image/png": "[encoded data removed]",
      "text/plain": [
       "<Figure size 432x288 with 1 Axes>"
      ]
     },
     "metadata": {
      "needs_background": "light"
     },
     "output_type": "display_data"
    },
    {
     "data": {
      "text/plain": [
       "51000"
      ]
     },
     "execution_count": 3,
     "metadata": {},
     "output_type": "execute_result"
    }
   ],
   "source": [
    "uniform_rng(10000,421,325,100000,1000,show_his=True)"
   ]
  },
  {
   "cell_type": "markdown",
   "metadata": {},
   "source": [
    "Here we see the frequentie of each value of m. It seems to be uniform, but of course, because it's random, values are not all excectly as common as others. To reduce the fluctuation we increase the amount of steps. See below."
   ]
  },
  {
   "cell_type": "code",
   "execution_count": 4,
   "metadata": {
    "scrolled": false
   },
   "outputs": [
    {
     "data": {
      "image/png": "[encoded data removed]",
      "text/plain": [
       "<Figure size 432x288 with 1 Axes>"
      ]
     },
     "metadata": {
      "needs_background": "light"
     },
     "output_type": "display_data"
    },
    {
     "data": {
      "text/plain": [
       "1000"
      ]
     },
     "execution_count": 4,
     "metadata": {},
     "output_type": "execute_result"
    }
   ],
   "source": [
    "uniform_rng(100000,421,325,100000,1000,show_his=True)"
   ]
  },
  {
   "cell_type": "markdown",
   "metadata": {},
   "source": [
    "Now we can estimate a random integer with max *m*, we can also generate random coordinates with max 1 by deviding every value by m. Now we can use the random coordinates to estimate pi. "
   ]
  },
  {
   "cell_type": "markdown",
   "metadata": {},
   "source": [
    "The surface of a square is (2r)^2, given that r is the radius of a circle that fits perfectly in a square. The surface of a circle (fitted in a sqaure) is pi times r^2. So to test the value of pi, we look at the surface of a circle with r=1. In that case the surface should be equal to pi. We estimate the surface by obtaining random coordinates 0<x<1 and 0<y<1. To decide wheter the coordinates are laying in the circle or outside the circle we look at the formula for half a circle.<br>\n",
    "x^2+y^2<1 given x and y are random variables. <br>"
   ]
  },
  {
   "cell_type": "code",
   "execution_count": 5,
   "metadata": {},
   "outputs": [],
   "source": [
    "def circle(steps,x,y):\n",
    "    lst=[]\n",
    "    for i in range(steps):\n",
    "        x=uniform_rng(10000,421,325,100000,x,show_his=False)\n",
    "        y=uniform_rng(10000,421,325,100000,y,show_his=False)\n",
    "        lst.append(((x/100000)**2+(y/100000)**2)<1)\n",
    "    return lst"
   ]
  },
  {
   "cell_type": "markdown",
   "metadata": {},
   "source": [
    "Now by deviding the amount of times a random coordinate is laying into the circle by the amount of coordinates are given, we can calculate the chance of a point being in the circle. This is equal to the surface of a circle devided by the surface of a sqaure. We know the surface of the square is 1, because our coordinates are between 0 and 1. So that means: <br>\n",
    "surface of a circle = points in the circle / amount of points"
   ]
  },
  {
   "cell_type": "code",
   "execution_count": 6,
   "metadata": {},
   "outputs": [
    {
     "data": {
      "text/plain": [
       "3.08"
      ]
     },
     "execution_count": 6,
     "metadata": {},
     "output_type": "execute_result"
    }
   ],
   "source": [
    "lst_random=circle(100,0.8,0.7)\n",
    "pi=(sum(lst_random)/len(lst_random))*4\n",
    "pi"
   ]
  },
  {
   "cell_type": "markdown",
   "metadata": {},
   "source": [
    "Increasing the amount of steps (or amount of coordinates) we get a more accurate estimation of pi..."
   ]
  },
  {
   "cell_type": "code",
   "execution_count": null,
   "metadata": {},
   "outputs": [],
   "source": [
    "lst_random=circle(1000000,0.8,0.7)\n",
    "pi=(sum(lst_random)/len(lst_random))*4\n",
    "pi"
   ]
  },
  {
   "cell_type": "code",
   "execution_count": 8,
   "metadata": {},
   "outputs": [],
   "source": [
    "from scipy.stats import norm"
   ]
  },
  {
   "cell_type": "code",
   "execution_count": 13,
   "metadata": {},
   "outputs": [
    {
     "data": {
      "text/plain": [
       "4.719016485455709"
      ]
     },
     "execution_count": 13,
     "metadata": {},
     "output_type": "execute_result"
    }
   ],
   "source": [
    "norm.ppf(0.9999,loc=1, scale=1)"
   ]
  },
  {
   "cell_type": "code",
   "execution_count": null,
   "metadata": {},
   "outputs": [],
   "source": [
    "def uniform_to_normal(lst):\n",
    "    new_lst=[]\n",
    "    for x in lst:\n",
    "        x=x/max(lst)\n",
    "        new_x=norm.ppf(x,loc=1,scale=1)\n",
    "        new_lst.append(new_x)\n",
    "    if show_his:\n",
    "        plt.hist([i for i in new_lst],bins=50)\n",
    "        plt.show()\n",
    "    "
   ]
  }
 ],
 "metadata": {
  "kernelspec": {
   "display_name": "Python 3",
   "language": "python",
   "name": "python3"
  },
  "language_info": {
   "codemirror_mode": {
    "name": "ipython",
    "version": 3
   },
   "file_extension": ".py",
   "mimetype": "text/x-python",
   "name": "python",
   "nbconvert_exporter": "python",
   "pygments_lexer": "ipython3",
   "version": "3.7.3"
  }
 },
 "nbformat": 4,
 "nbformat_minor": 2
}
